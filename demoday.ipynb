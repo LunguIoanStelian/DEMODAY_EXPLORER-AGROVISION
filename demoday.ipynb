{
  "cells": [
    {
      "cell_type": "code",
      "execution_count": 3,
      "metadata": {
        "colab": {
          "base_uri": "https://localhost:8080/"
        },
        "id": "Ji-l1u_5G_Kt",
        "outputId": "14d2580d-0582-45ac-a3a9-9144a8e02318"
      },
      "outputs": [
        {
          "name": "stdout",
          "output_type": "stream",
          "text": [
            "Requirement already satisfied: earthengine-api in /usr/local/lib/python3.10/dist-packages (0.1.381)\n",
            "Requirement already satisfied: google-cloud-storage in /usr/local/lib/python3.10/dist-packages (from earthengine-api) (2.8.0)\n",
            "Requirement already satisfied: google-api-python-client>=1.12.1 in /usr/local/lib/python3.10/dist-packages (from earthengine-api) (2.84.0)\n",
            "Requirement already satisfied: google-auth>=1.4.1 in /usr/local/lib/python3.10/dist-packages (from earthengine-api) (2.17.3)\n",
            "Requirement already satisfied: google-auth-httplib2>=0.0.3 in /usr/local/lib/python3.10/dist-packages (from earthengine-api) (0.1.1)\n",
            "Requirement already satisfied: httplib2<1dev,>=0.9.2 in /usr/local/lib/python3.10/dist-packages (from earthengine-api) (0.22.0)\n",
            "Requirement already satisfied: requests in /usr/local/lib/python3.10/dist-packages (from earthengine-api) (2.31.0)\n",
            "Requirement already satisfied: google-api-core!=2.0.*,!=2.1.*,!=2.2.*,!=2.3.0,<3.0.0dev,>=1.31.5 in /usr/local/lib/python3.10/dist-packages (from google-api-python-client>=1.12.1->earthengine-api) (2.11.1)\n",
            "Requirement already satisfied: uritemplate<5,>=3.0.1 in /usr/local/lib/python3.10/dist-packages (from google-api-python-client>=1.12.1->earthengine-api) (4.1.1)\n",
            "Requirement already satisfied: cachetools<6.0,>=2.0.0 in /usr/local/lib/python3.10/dist-packages (from google-auth>=1.4.1->earthengine-api) (5.3.2)\n",
            "Requirement already satisfied: pyasn1-modules>=0.2.1 in /usr/local/lib/python3.10/dist-packages (from google-auth>=1.4.1->earthengine-api) (0.3.0)\n",
            "Requirement already satisfied: six>=1.9.0 in /usr/local/lib/python3.10/dist-packages (from google-auth>=1.4.1->earthengine-api) (1.16.0)\n",
            "Requirement already satisfied: rsa<5,>=3.1.4 in /usr/local/lib/python3.10/dist-packages (from google-auth>=1.4.1->earthengine-api) (4.9)\n",
            "Requirement already satisfied: pyparsing!=3.0.0,!=3.0.1,!=3.0.2,!=3.0.3,<4,>=2.4.2 in /usr/local/lib/python3.10/dist-packages (from httplib2<1dev,>=0.9.2->earthengine-api) (3.1.1)\n",
            "Requirement already satisfied: google-cloud-core<3.0dev,>=2.3.0 in /usr/local/lib/python3.10/dist-packages (from google-cloud-storage->earthengine-api) (2.3.3)\n",
            "Requirement already satisfied: google-resumable-media>=2.3.2 in /usr/local/lib/python3.10/dist-packages (from google-cloud-storage->earthengine-api) (2.6.0)\n",
            "Requirement already satisfied: charset-normalizer<4,>=2 in /usr/local/lib/python3.10/dist-packages (from requests->earthengine-api) (3.3.2)\n",
            "Requirement already satisfied: idna<4,>=2.5 in /usr/local/lib/python3.10/dist-packages (from requests->earthengine-api) (3.6)\n",
            "Requirement already satisfied: urllib3<3,>=1.21.1 in /usr/local/lib/python3.10/dist-packages (from requests->earthengine-api) (2.0.7)\n",
            "Requirement already satisfied: certifi>=2017.4.17 in /usr/local/lib/python3.10/dist-packages (from requests->earthengine-api) (2023.11.17)\n",
            "Requirement already satisfied: googleapis-common-protos<2.0.dev0,>=1.56.2 in /usr/local/lib/python3.10/dist-packages (from google-api-core!=2.0.*,!=2.1.*,!=2.2.*,!=2.3.0,<3.0.0dev,>=1.31.5->google-api-python-client>=1.12.1->earthengine-api) (1.61.0)\n",
            "Requirement already satisfied: protobuf!=3.20.0,!=3.20.1,!=4.21.0,!=4.21.1,!=4.21.2,!=4.21.3,!=4.21.4,!=4.21.5,<5.0.0.dev0,>=3.19.5 in /usr/local/lib/python3.10/dist-packages (from google-api-core!=2.0.*,!=2.1.*,!=2.2.*,!=2.3.0,<3.0.0dev,>=1.31.5->google-api-python-client>=1.12.1->earthengine-api) (3.20.3)\n",
            "Requirement already satisfied: google-crc32c<2.0dev,>=1.0 in /usr/local/lib/python3.10/dist-packages (from google-resumable-media>=2.3.2->google-cloud-storage->earthengine-api) (1.5.0)\n",
            "Requirement already satisfied: pyasn1<0.6.0,>=0.4.6 in /usr/local/lib/python3.10/dist-packages (from pyasn1-modules>=0.2.1->google-auth>=1.4.1->earthengine-api) (0.5.1)\n"
          ]
        }
      ],
      "source": [
        "!pip install earthengine-api"
      ]
    },
    {
      "cell_type": "code",
      "execution_count": 2,
      "metadata": {
        "colab": {
          "base_uri": "https://localhost:8080/"
        },
        "id": "eM4qDywgHFNq",
        "outputId": "3d8fab3a-b336-43d8-a260-868eff5dc9b3"
      },
      "outputs": [
        {
          "name": "stderr",
          "output_type": "stream",
          "text": [
            "'earthengine' is not recognized as an internal or external command,\n",
            "operable program or batch file.\n"
          ]
        }
      ],
      "source": [
        "!earthengine authenticate"
      ]
    },
    {
      "cell_type": "markdown",
      "metadata": {
        "id": "B3kaZvOr5F2i"
      },
      "source": [
        "MODEL 01"
      ]
    },
    {
      "cell_type": "code",
      "execution_count": null,
      "metadata": {
        "colab": {
          "base_uri": "https://localhost:8080/",
          "height": 512
        },
        "id": "O6WroLjGHYeV",
        "outputId": "5011b768-4816-4638-b633-c7bc7f560057"
      },
      "outputs": [
        {
          "ename": "EEException",
          "evalue": "ignored",
          "output_type": "error",
          "traceback": [
            "\u001b[0;31m---------------------------------------------------------------------------\u001b[0m",
            "\u001b[0;31mFileNotFoundError\u001b[0m                         Traceback (most recent call last)",
            "\u001b[0;32m/usr/local/lib/python3.10/dist-packages/ee/data.py\u001b[0m in \u001b[0;36mget_persistent_credentials\u001b[0;34m()\u001b[0m\n\u001b[1;32m    243\u001b[0m     return credentials_lib.Credentials(\n\u001b[0;32m--> 244\u001b[0;31m         \u001b[0;32mNone\u001b[0m\u001b[0;34m,\u001b[0m \u001b[0;34m**\u001b[0m\u001b[0moauth\u001b[0m\u001b[0;34m.\u001b[0m\u001b[0mget_credentials_arguments\u001b[0m\u001b[0;34m(\u001b[0m\u001b[0;34m)\u001b[0m\u001b[0;34m\u001b[0m\u001b[0;34m\u001b[0m\u001b[0m\n\u001b[0m\u001b[1;32m    245\u001b[0m     )\n",
            "\u001b[0;32m/usr/local/lib/python3.10/dist-packages/ee/oauth.py\u001b[0m in \u001b[0;36mget_credentials_arguments\u001b[0;34m()\u001b[0m\n\u001b[1;32m     71\u001b[0m \u001b[0;32mdef\u001b[0m \u001b[0mget_credentials_arguments\u001b[0m\u001b[0;34m(\u001b[0m\u001b[0;34m)\u001b[0m \u001b[0;34m->\u001b[0m \u001b[0mDict\u001b[0m\u001b[0;34m[\u001b[0m\u001b[0mstr\u001b[0m\u001b[0;34m,\u001b[0m \u001b[0mAny\u001b[0m\u001b[0;34m]\u001b[0m\u001b[0;34m:\u001b[0m\u001b[0;34m\u001b[0m\u001b[0;34m\u001b[0m\u001b[0m\n\u001b[0;32m---> 72\u001b[0;31m   \u001b[0;32mwith\u001b[0m \u001b[0mopen\u001b[0m\u001b[0;34m(\u001b[0m\u001b[0mget_credentials_path\u001b[0m\u001b[0;34m(\u001b[0m\u001b[0;34m)\u001b[0m\u001b[0;34m)\u001b[0m \u001b[0;32mas\u001b[0m \u001b[0mcreds\u001b[0m\u001b[0;34m:\u001b[0m\u001b[0;34m\u001b[0m\u001b[0;34m\u001b[0m\u001b[0m\n\u001b[0m\u001b[1;32m     73\u001b[0m     \u001b[0mstored\u001b[0m \u001b[0;34m=\u001b[0m \u001b[0mjson\u001b[0m\u001b[0;34m.\u001b[0m\u001b[0mload\u001b[0m\u001b[0;34m(\u001b[0m\u001b[0mcreds\u001b[0m\u001b[0;34m)\u001b[0m\u001b[0;34m\u001b[0m\u001b[0;34m\u001b[0m\u001b[0m\n",
            "\u001b[0;31mFileNotFoundError\u001b[0m: [Errno 2] No such file or directory: '/root/.config/earthengine/credentials'",
            "\nDuring handling of the above exception, another exception occurred:\n",
            "\u001b[0;31mEEException\u001b[0m                               Traceback (most recent call last)",
            "\u001b[0;32m<ipython-input-1-b385a9632939>\u001b[0m in \u001b[0;36m<cell line: 6>\u001b[0;34m()\u001b[0m\n\u001b[1;32m      4\u001b[0m \u001b[0;34m\u001b[0m\u001b[0m\n\u001b[1;32m      5\u001b[0m \u001b[0;31m# Autentificare și inițializare Earth Engine\u001b[0m\u001b[0;34m\u001b[0m\u001b[0;34m\u001b[0m\u001b[0m\n\u001b[0;32m----> 6\u001b[0;31m \u001b[0mee\u001b[0m\u001b[0;34m.\u001b[0m\u001b[0mInitialize\u001b[0m\u001b[0;34m(\u001b[0m\u001b[0;34m)\u001b[0m\u001b[0;34m\u001b[0m\u001b[0;34m\u001b[0m\u001b[0m\n\u001b[0m\u001b[1;32m      7\u001b[0m \u001b[0;34m\u001b[0m\u001b[0m\n\u001b[1;32m      8\u001b[0m \u001b[0;31m# Definirea unei funcții pentru extragerea informațiilor SMAP pentru regiunea specificată\u001b[0m\u001b[0;34m\u001b[0m\u001b[0;34m\u001b[0m\u001b[0m\n",
            "\u001b[0;32m/usr/local/lib/python3.10/dist-packages/ee/__init__.py\u001b[0m in \u001b[0;36mInitialize\u001b[0;34m(credentials, opt_url, cloud_api_key, http_transport, project)\u001b[0m\n\u001b[1;32m    130\u001b[0m   \"\"\"\n\u001b[1;32m    131\u001b[0m   \u001b[0;32mif\u001b[0m \u001b[0mcredentials\u001b[0m \u001b[0;34m==\u001b[0m \u001b[0;34m'persistent'\u001b[0m\u001b[0;34m:\u001b[0m\u001b[0;34m\u001b[0m\u001b[0;34m\u001b[0m\u001b[0m\n\u001b[0;32m--> 132\u001b[0;31m     \u001b[0mcredentials\u001b[0m \u001b[0;34m=\u001b[0m \u001b[0mdata\u001b[0m\u001b[0;34m.\u001b[0m\u001b[0mget_persistent_credentials\u001b[0m\u001b[0;34m(\u001b[0m\u001b[0;34m)\u001b[0m\u001b[0;34m\u001b[0m\u001b[0;34m\u001b[0m\u001b[0m\n\u001b[0m\u001b[1;32m    133\u001b[0m \u001b[0;34m\u001b[0m\u001b[0m\n\u001b[1;32m    134\u001b[0m   data.initialize(\n",
            "\u001b[0;32m/usr/local/lib/python3.10/dist-packages/ee/data.py\u001b[0m in \u001b[0;36mget_persistent_credentials\u001b[0;34m()\u001b[0m\n\u001b[1;32m    245\u001b[0m     )\n\u001b[1;32m    246\u001b[0m   \u001b[0;32mexcept\u001b[0m \u001b[0mIOError\u001b[0m\u001b[0;34m:\u001b[0m\u001b[0;34m\u001b[0m\u001b[0;34m\u001b[0m\u001b[0m\n\u001b[0;32m--> 247\u001b[0;31m     raise ee_exception.EEException(  # pylint: disable=raise-missing-from\n\u001b[0m\u001b[1;32m    248\u001b[0m         \u001b[0;34m'Please authorize access to your Earth Engine account by '\u001b[0m\u001b[0;34m\u001b[0m\u001b[0;34m\u001b[0m\u001b[0m\n\u001b[1;32m    249\u001b[0m         \u001b[0;34m'running\\n\\nearthengine authenticate\\n\\n'\u001b[0m\u001b[0;34m\u001b[0m\u001b[0;34m\u001b[0m\u001b[0m\n",
            "\u001b[0;31mEEException\u001b[0m: Please authorize access to your Earth Engine account by running\n\nearthengine authenticate\n\nin your command line, and then retry."
          ]
        }
      ],
      "source": [
        "import datetime\n",
        "import ee\n",
        "from ipyleaflet import Map, DrawControl\n",
        "\n",
        "# Autentificare și inițializare Earth Engine\n",
        "ee.Initialize()\n",
        "\n",
        "# Definirea unei funcții pentru extragerea informațiilor SMAP pentru regiunea specificată\n",
        "def get_smap_info_for_region(geometry):\n",
        "    smap_bands = ee.ImageCollection(\"NASA/SMAP/SPL4SMGP/007\")\n",
        "    smap_bands_in_region = smap_bands.filterBounds(geometry)\n",
        "    first_smap_bands = smap_bands_in_region.first()\n",
        "\n",
        "    smap_data = first_smap_bands.select(['sm_surface', 'sm_rootzone','surface_temp', 'land_evapotranspiration_flux', 'soil_water_infiltration_flux']).reduceRegion(\n",
        "        reducer=ee.Reducer.mean(), geometry=geometry, scale=9000).getInfo()\n",
        "\n",
        "    surface_soil_moisture = smap_data['sm_surface']\n",
        "    root_zone_soil_moisture = smap_data['sm_rootzone']\n",
        "    land_zone_evapotranspiration_flux = smap_data['land_evapotranspiration_flux']\n",
        "    soil_zone_water_infiltration_flux = smap_data['soil_water_infiltration_flux']\n",
        "\n",
        "    surface_zone_temp_kelvin = smap_data['surface_temp']\n",
        "    surface_zone_temp_celsius = surface_zone_temp_kelvin - 273.15\n",
        "\n",
        "    return {\n",
        "        \"surface_soil_moisture\": surface_soil_moisture,\n",
        "        \"root_zone_soil_moisture\": root_zone_soil_moisture,\n",
        "        \"surface_zone_temp_celsius\": surface_zone_temp_celsius,\n",
        "        \"land_zone_evapotranspiration_flux\": land_zone_evapotranspiration_flux,\n",
        "        \"soil_zone_water_infiltration_flux\": soil_zone_water_infiltration_flux\n",
        "    }\n",
        "\n",
        "\n",
        "# Funcția pentru extragerea informațiilor din setul de date ESA WorldCereal pentru regiunea specificată\n",
        "def get_esa_info_for_region(geometry):\n",
        "    aez_dataset = ee.FeatureCollection(\"ESA/WorldCereal/AEZ/v100\")\n",
        "    features = aez_dataset.filterBounds(geometry).getInfo()['features']\n",
        "\n",
        "    if len(features) > 0:\n",
        "        properties = features[0]['properties']\n",
        "        aez_id = properties['aez_id']\n",
        "        aez_groupid = properties['aez_groupid']\n",
        "\n",
        "        # Obținerea valorilor pentru zi și lună\n",
        "        tc_annual_sos_day = properties['tc-annual_sos'] % 100\n",
        "        tc_annual_sos_month = properties['tc-annual_sos'] // 100\n",
        "        tc_annual_eos_day = properties['tc-annual_eos'] % 100\n",
        "        tc_annual_eos_month = properties['tc-annual_eos'] // 100\n",
        "        tc_wintercereals_sos_day = properties['tc-wintercereals_sos'] % 100\n",
        "        tc_wintercereals_sos_month = properties['tc-wintercereals_sos'] // 100\n",
        "        tc_wintercereals_eos_day = properties['tc-wintercereals_eos'] % 100\n",
        "        tc_wintercereals_eos_month = properties['tc-wintercereals_eos'] // 100\n",
        "        tc_springcereals_sos_day = properties['tc-springcereals_sos'] % 100\n",
        "        tc_springcereals_sos_month = properties['tc-springcereals_sos'] // 100\n",
        "        tc_springcereals_eos_day = properties['tc-springcereals_eos'] % 100\n",
        "        tc_springcereals_eos_month = properties['tc-springcereals_eos'] // 100\n",
        "\n",
        "        tc_annual_sos = f\"{tc_annual_sos_day} (Ziua) din {tc_annual_sos_month} (Luna)\"\n",
        "        tc_annual_eos = f\"{tc_annual_eos_day} (Ziua) din {tc_annual_eos_month} (Luna)\"\n",
        "        tc_wintercereals_sos = f\"{tc_wintercereals_sos_day} (Ziua) din {tc_wintercereals_sos_month} (Luna)\"\n",
        "        tc_wintercereals_eos = f\"{tc_wintercereals_eos_day} (Ziua) din {tc_wintercereals_eos_month} (Luna)\"\n",
        "        tc_springcereals_sos = f\"{tc_springcereals_sos_day} (Ziua) din {tc_springcereals_sos_month} (Luna)\"\n",
        "        tc_springcereals_eos = f\"{tc_springcereals_eos_day} (Ziua) din {tc_springcereals_eos_month} (Luna)\"\n",
        "\n",
        "        return {\n",
        "            \"aez_id\": aez_id,\n",
        "            \"aez_groupid\": aez_groupid,\n",
        "            \"tc_annual_sos\": tc_annual_sos,\n",
        "            \"tc_annual_eos\": tc_annual_eos,\n",
        "            \"tc_wintercereals_sos\": tc_wintercereals_sos,\n",
        "            \"tc_wintercereals_eos\": tc_wintercereals_eos,\n",
        "            \"tc_springcereals_sos\": tc_springcereals_sos,\n",
        "            \"tc_springcereals_eos\": tc_springcereals_eos\n",
        "        }\n",
        "    else:\n",
        "        return None\n",
        "\n",
        "\n",
        "\n",
        "# Funcția pentru extragerea informațiilor și afișarea acestora la desenarea poligonului\n",
        "def on_draw(self, action, geo_json):\n",
        "    if action == 'created':\n",
        "        coords = geo_json.get('geometry').get('coordinates')\n",
        "        polygon_coords = ee.Geometry.Polygon(coords)\n",
        "\n",
        "        # Extrage informații SMAP\n",
        "        smap_info = get_smap_info_for_region(polygon_coords)\n",
        "        if smap_info:\n",
        "            print(\"Informații SMAP:\")\n",
        "            print(f\"Umiditate sol de suprafață: {smap_info['surface_soil_moisture']}% cm\")\n",
        "            print(f\"Umiditate sol zona rădăcinii: {smap_info['root_zone_soil_moisture']}% cm\")\n",
        "            print(f\"Temperaturi: {smap_info['surface_zone_temp_celsius']} C\")\n",
        "            print(f\"Flux evapotranspirație teren: {smap_info['land_zone_evapotranspiration_flux']} kg/m^2/s\")\n",
        "            print(f\"Flux infiltrare apă în sol: {smap_info['soil_zone_water_infiltration_flux']} kg/m^2/s\")\n",
        "\n",
        "        # Extrage informații ESA WorldCereal\n",
        "        esa_info = get_esa_info_for_region(polygon_coords)\n",
        "        if esa_info:\n",
        "            print(\"\\nInformații ESA WorldCereal:\")\n",
        "            print(f\"AEZ ID (ID zona agro-ecologică): {esa_info['aez_id']}\")\n",
        "            print(f\"AEZ Group ID (ID grup zona agro-ecologică): {esa_info['aez_groupid']}\")\n",
        "            print(f\"TC Annual SOS (Ziua de start a sezonului anual de cultură): {esa_info['tc_annual_sos']}\")\n",
        "            print(f\"TC Annual EOS (Ziua de sfârșit a sezonului anual de cultură): {esa_info['tc_annual_eos']}\")\n",
        "            print(f\"TC Wintercereals SOS (Ziua de start a sezonului de iernare a cerealelor): {esa_info['tc_wintercereals_sos']}\")\n",
        "            print(f\"TC Wintercereals EOS (Ziua de sfârșit a sezonului de iernare a cerealelor): {esa_info['tc_wintercereals_eos']}\")\n",
        "            print(f\"TC Springcereals SOS (Ziua de start a sezonului de primăvară a cerealelor): {esa_info['tc_springcereals_sos']}\")\n",
        "            print(f\"TC Springcereals EOS (Ziua de sfârșit a sezonului de primăvară a cerealelor): {esa_info['tc_springcereals_eos']}\")\n",
        "        else:\n",
        "            print(\"Nu există date disponibile pentru zona selectată.\")\n",
        "\n",
        "\n",
        "# Crearea unei hărți\n",
        "m = Map(center=(0, 0), zoom=2)\n",
        "\n",
        "# Adăugarea controlului pentru desenarea poligonului pe hartă\n",
        "draw_control = DrawControl()\n",
        "draw_control.on_draw(on_draw)\n",
        "m.add_control(draw_control)\n",
        "\n",
        "# Afișarea hărții\n",
        "m"
      ]
    },
    {
      "cell_type": "markdown",
      "metadata": {
        "id": "uh8e1Vin5Bno"
      },
      "source": [
        "MODEL 02"
      ]
    },
    {
      "cell_type": "code",
      "execution_count": 6,
      "metadata": {
        "colab": {
          "base_uri": "https://localhost:8080/",
          "height": 699,
          "referenced_widgets": [
            "a0ffa7284fe44af79849cf5c04f4f3b4",
            "a222b487c05046f6a2c5d1b816647dd2",
            "82736a3f0c6f469992cafe4bd9ea013c",
            "8b10ad0ae544465ea8c3bed3cf63bf40",
            "c01002da14a7476e8ab0229b02e1a31e",
            "3eaa4fe76cd34dd580fa855a6723d87c",
            "7e5b76126a154b2c9da2e30f7356c6be",
            "6b56a2c06edf43b88a94d8a8eb5c98b8",
            "a53ecf2035794b4180c5dd05e883d949"
          ]
        },
        "id": "w9e1D7MUcsS0",
        "outputId": "bec0e744-9ef0-47ec-eea5-d1e19292a420"
      },
      "outputs": [
        {
          "data": {
            "application/vnd.jupyter.widget-view+json": {
              "model_id": "a0ffa7284fe44af79849cf5c04f4f3b4",
              "version_major": 2,
              "version_minor": 0
            },
            "text/plain": [
              "Map(center=[0, 0], controls=(ZoomControl(options=['position', 'zoom_in_text', 'zoom_in_title', 'zoom_out_text'…"
            ]
          },
          "metadata": {
            "application/vnd.jupyter.widget-view+json": {
              "colab": {
                "custom_widget_manager": {
                  "url": "https://ssl.gstatic.com/colaboratory-static/widgets/colab-cdn-widget-manager/b3e629b1971e1542/manager.min.js"
                }
              }
            }
          },
          "output_type": "display_data"
        },
        {
          "name": "stdout",
          "output_type": "stream",
          "text": [
            "Informații SMAP:\n",
            "Umiditate sol de suprafață: 60.50721740722656% \n",
            "Umiditate sol zona rădăcinii: 60.50721740722656% \n",
            "Temperaturi: 3.9493652343750227 C\n",
            "Flux evapotranspirație teren: 1.4232064131647348e-06 kg/m^2/s\n",
            "Flux infiltrare apă în sol: 1.589651219546795e-07 kg/m^2/s\n",
            "\n",
            "Informații ESA WorldCereal:\n",
            "AEZ ID (ID zona agro-ecologică): 22190\n",
            "AEZ Group ID (ID grup zona agro-ecologică): 22000\n",
            "TC Annual SOS (Ziua de start a sezonului anual de cultură): 305\n",
            "TC Annual EOS (Ziua de sfârșit a sezonului anual de cultură): 304\n",
            "TC Wintercereals SOS (Ziua de start a sezonului de iernare a cerealelor): 44\n",
            "TC TC Wintercereals EOS (Ziua de sfârșit a sezonului de iernare a cerealelor): 223\n",
            "TC Springcereals SOS (Ziua de start a sezonului de primăvară a cerealelor): 107\n",
            "TC Springcereals EOS (Ziua de sfârșit a sezonului de primăvară a cerealelor): 304\n"
          ]
        }
      ],
      "source": [
        "import ee\n",
        "from ipyleaflet import Map, DrawControl\n",
        "\n",
        "# Autentificare și inițializare Earth Engine\n",
        "ee.Initialize()\n",
        "\n",
        "# Definirea unei funcții pentru extragerea informațiilor SMAP pentru regiunea specificată\n",
        "def get_smap_info_for_region(geometry):\n",
        "    smap_bands = ee.ImageCollection(\"NASA/SMAP/SPL4SMGP/007\")\n",
        "    smap_bands_in_region = smap_bands.filterBounds(geometry)\n",
        "    first_smap_bands = smap_bands_in_region.first()\n",
        "\n",
        "    smap_data = first_smap_bands.select(['sm_profile_pctl', 'sm_rootzone_pctl','surface_temp', 'land_evapotranspiration_flux', 'soil_water_infiltration_flux']).reduceRegion(\n",
        "        reducer=ee.Reducer.mean(), geometry=geometry, scale=9000).getInfo()\n",
        "\n",
        "    surface_soil_moisture = smap_data['sm_profile_pctl']\n",
        "    root_zone_soil_moisture = smap_data['sm_rootzone_pctl']\n",
        "    land_zone_evapotranspiration_flux = smap_data['land_evapotranspiration_flux']\n",
        "    soil_zone_water_infiltration_flux = smap_data['soil_water_infiltration_flux']\n",
        "\n",
        "    surface_zone_temp_kelvin = smap_data['surface_temp']\n",
        "    surface_zone_temp_celsius = surface_zone_temp_kelvin - 273.15\n",
        "\n",
        "    return {\n",
        "        \"surface_soil_moisture\": surface_soil_moisture,\n",
        "        \"root_zone_soil_moisture\": root_zone_soil_moisture,\n",
        "        \"surface_zone_temp_celsius\": surface_zone_temp_celsius,\n",
        "        \"land_zone_evapotranspiration_flux\": land_zone_evapotranspiration_flux,\n",
        "        \"soil_zone_water_infiltration_flux\": soil_zone_water_infiltration_flux\n",
        "    }\n",
        "\n",
        "# Definirea unei funcții pentru extragerea informațiilor din setul de date ESA WorldCereal pentru regiunea specificată\n",
        "def get_esa_info_for_region(geometry):\n",
        "    aez_dataset = ee.FeatureCollection(\"ESA/WorldCereal/AEZ/v100\")\n",
        "    features = aez_dataset.filterBounds(geometry).getInfo()['features']\n",
        "\n",
        "    if len(features) > 0:\n",
        "        properties = features[0]['properties']\n",
        "        aez_id = properties['aez_id']\n",
        "        aez_groupid = properties['aez_groupid']\n",
        "        tc_annual_sos = properties['tc-annual_sos']\n",
        "        tc_annual_eos = properties['tc-annual_eos']\n",
        "        tc_wintercereals_sos = properties['tc-wintercereals_sos']\n",
        "        tc_wintercereals_eos = properties['tc-wintercereals_eos']\n",
        "        tc_springcereals_sos = properties['tc-springcereals_sos']\n",
        "        tc_springcereals_eos = properties['tc-springcereals_eos']\n",
        "\n",
        "        return {\n",
        "            \"aez_id\": aez_id,\n",
        "            \"aez_groupid\": aez_groupid,\n",
        "            \"tc_annual_sos\": tc_annual_sos,\n",
        "            \"tc_annual_eos\": tc_annual_eos,\n",
        "            \"tc_wintercereals_sos\": tc_wintercereals_sos,\n",
        "            \"tc_wintercereals_eos\": tc_wintercereals_eos,\n",
        "            \"tc_springcereals_sos\": tc_springcereals_sos,\n",
        "            \"tc_springcereals_eos\": tc_springcereals_eos\n",
        "        }\n",
        "    else:\n",
        "        return None\n",
        "\n",
        "# Funcția pentru extragerea informațiilor și afișarea acestora la desenarea poligonului\n",
        "def on_draw(self, action, geo_json):\n",
        "    if action == 'created':\n",
        "        coords = geo_json.get('geometry').get('coordinates')\n",
        "        polygon_coords = ee.Geometry.Polygon(coords)\n",
        "\n",
        "        # Extrage informații SMAP\n",
        "        smap_info = get_smap_info_for_region(polygon_coords)\n",
        "        if smap_info:\n",
        "            print(\"Informații SMAP:\")\n",
        "            print(f\"Umiditate sol de suprafață: {smap_info['surface_soil_moisture']}% \")\n",
        "            print(f\"Umiditate sol zona rădăcinii: {smap_info['root_zone_soil_moisture']}% \")\n",
        "            print(f\"Temperaturi: {smap_info['surface_zone_temp_celsius']} C\")\n",
        "            print(f\"Flux evapotranspirație teren: {smap_info['land_zone_evapotranspiration_flux']} kg/m^2/s\")\n",
        "            print(f\"Flux infiltrare apă în sol: {smap_info['soil_zone_water_infiltration_flux']} kg/m^2/s\")\n",
        "\n",
        "        # Extrage informații ESA WorldCereal\n",
        "        esa_info = get_esa_info_for_region(polygon_coords)\n",
        "        if esa_info:\n",
        "            print(\"\\nInformații ESA WorldCereal:\")\n",
        "            print(f\"AEZ ID (ID zona agro-ecologică): {esa_info['aez_id']}\")\n",
        "            print(f\"AEZ Group ID (ID grup zona agro-ecologică): {esa_info['aez_groupid']}\")\n",
        "            print(f\"TC Annual SOS (Ziua de start a sezonului anual de cultură): {esa_info['tc_annual_sos']}\")\n",
        "            print(f\"TC Annual EOS (Ziua de sfârșit a sezonului anual de cultură): {esa_info['tc_annual_eos']}\")\n",
        "            print(f\"TC Wintercereals SOS (Ziua de start a sezonului de iernare a cerealelor): {esa_info['tc_wintercereals_sos']}\")\n",
        "            print(f\"TC TC Wintercereals EOS (Ziua de sfârșit a sezonului de iernare a cerealelor): {esa_info['tc_wintercereals_eos']}\")\n",
        "            print(f\"TC Springcereals SOS (Ziua de start a sezonului de primăvară a cerealelor): {esa_info['tc_springcereals_sos']}\")\n",
        "            print(f\"TC Springcereals EOS (Ziua de sfârșit a sezonului de primăvară a cerealelor): {esa_info['tc_springcereals_eos']}\")\n",
        "        else:\n",
        "            print(\"Nu există date disponibile pentru zona selectată.\")\n",
        "\n",
        "# Crearea unei hărți\n",
        "m = Map(center=(0, 0), zoom=2)\n",
        "\n",
        "# Adăugarea controlului pentru desenarea poligonului pe hartă\n",
        "draw_control = DrawControl()\n",
        "draw_control.on_draw(on_draw)\n",
        "m.add_control(draw_control)\n",
        "\n",
        "# Afișarea hărții\n",
        "m\n"
      ]
    }
  ],
  "metadata": {
    "colab": {
      "provenance": []
    },
    "kernelspec": {
      "display_name": "Python 3",
      "name": "python3"
    },
    "language_info": {
      "codemirror_mode": {
        "name": "ipython",
        "version": 3
      },
      "file_extension": ".py",
      "mimetype": "text/x-python",
      "name": "python",
      "nbconvert_exporter": "python",
      "pygments_lexer": "ipython3",
      "version": "3.12.2"
    },
    "widgets": {
      "application/vnd.jupyter.widget-state+json": {
        "3eaa4fe76cd34dd580fa855a6723d87c": {
          "model_module": "jupyter-leaflet",
          "model_module_version": "^0.18",
          "model_name": "LeafletMapStyleModel",
          "state": {
            "_model_module": "jupyter-leaflet",
            "_model_module_version": "^0.18",
            "_model_name": "LeafletMapStyleModel",
            "_view_count": null,
            "_view_module": "@jupyter-widgets/base",
            "_view_module_version": "1.2.0",
            "_view_name": "StyleView",
            "cursor": "move"
          }
        },
        "6b56a2c06edf43b88a94d8a8eb5c98b8": {
          "model_module": "@jupyter-widgets/base",
          "model_module_version": "1.2.0",
          "model_name": "LayoutModel",
          "state": {
            "_model_module": "@jupyter-widgets/base",
            "_model_module_version": "1.2.0",
            "_model_name": "LayoutModel",
            "_view_count": null,
            "_view_module": "@jupyter-widgets/base",
            "_view_module_version": "1.2.0",
            "_view_name": "LayoutView",
            "align_content": null,
            "align_items": null,
            "align_self": null,
            "border": null,
            "bottom": null,
            "display": null,
            "flex": null,
            "flex_flow": null,
            "grid_area": null,
            "grid_auto_columns": null,
            "grid_auto_flow": null,
            "grid_auto_rows": null,
            "grid_column": null,
            "grid_gap": null,
            "grid_row": null,
            "grid_template_areas": null,
            "grid_template_columns": null,
            "grid_template_rows": null,
            "height": null,
            "justify_content": null,
            "justify_items": null,
            "left": null,
            "margin": null,
            "max_height": null,
            "max_width": null,
            "min_height": null,
            "min_width": null,
            "object_fit": null,
            "object_position": null,
            "order": null,
            "overflow": null,
            "overflow_x": null,
            "overflow_y": null,
            "padding": null,
            "right": null,
            "top": null,
            "visibility": null,
            "width": null
          }
        },
        "7e5b76126a154b2c9da2e30f7356c6be": {
          "model_module": "jupyter-leaflet",
          "model_module_version": "^0.18",
          "model_name": "LeafletTileLayerModel",
          "state": {
            "_model_module": "jupyter-leaflet",
            "_model_module_version": "^0.18",
            "_model_name": "LeafletTileLayerModel",
            "_view_count": null,
            "_view_module": "jupyter-leaflet",
            "_view_module_version": "^0.18",
            "_view_name": "LeafletTileLayerView",
            "attribution": "&copy; <a href=\"https://www.openstreetmap.org/copyright\">OpenStreetMap</a> contributors",
            "base": true,
            "bottom": true,
            "bounds": null,
            "detect_retina": false,
            "loading": false,
            "max_native_zoom": null,
            "max_zoom": 19,
            "min_native_zoom": null,
            "min_zoom": 1,
            "name": "OpenStreetMap.Mapnik",
            "no_wrap": false,
            "opacity": 1,
            "options": [
              "attribution",
              "bounds",
              "detect_retina",
              "max_native_zoom",
              "max_zoom",
              "min_native_zoom",
              "min_zoom",
              "no_wrap",
              "tile_size",
              "tms",
              "zoom_offset"
            ],
            "pane": "",
            "popup": null,
            "popup_max_height": null,
            "popup_max_width": 300,
            "popup_min_width": 50,
            "show_loading": false,
            "subitems": [],
            "tile_size": 256,
            "tms": false,
            "url": "https://tile.openstreetmap.org/{z}/{x}/{y}.png",
            "visible": true,
            "zoom_offset": 0
          }
        },
        "82736a3f0c6f469992cafe4bd9ea013c": {
          "model_module": "jupyter-leaflet",
          "model_module_version": "^0.18",
          "model_name": "LeafletAttributionControlModel",
          "state": {
            "_model_module": "jupyter-leaflet",
            "_model_module_version": "^0.18",
            "_model_name": "LeafletAttributionControlModel",
            "_view_count": null,
            "_view_module": "jupyter-leaflet",
            "_view_module_version": "^0.18",
            "_view_name": "LeafletAttributionControlView",
            "options": [
              "position",
              "prefix"
            ],
            "position": "bottomright",
            "prefix": "ipyleaflet"
          }
        },
        "8b10ad0ae544465ea8c3bed3cf63bf40": {
          "model_module": "jupyter-leaflet",
          "model_module_version": "^0.18",
          "model_name": "LeafletDrawControlModel",
          "state": {
            "_model_module": "jupyter-leaflet",
            "_model_module_version": "^0.18",
            "_model_name": "LeafletDrawControlModel",
            "_view_count": null,
            "_view_module": "jupyter-leaflet",
            "_view_module_version": "^0.18",
            "_view_name": "LeafletDrawControlView",
            "circle": {},
            "circlemarker": {
              "shapeOptions": {}
            },
            "data": [
              {
                "geometry": {
                  "coordinates": [
                    [
                      [
                        21.622543,
                        45.661206
                      ],
                      [
                        21.62632,
                        45.651727
                      ],
                      [
                        21.638424,
                        45.652927
                      ],
                      [
                        21.633789,
                        45.662586
                      ],
                      [
                        21.622543,
                        45.661206
                      ]
                    ]
                  ],
                  "type": "Polygon"
                },
                "properties": {
                  "style": {
                    "clickable": true,
                    "color": "#3388ff",
                    "fill": true,
                    "fillColor": null,
                    "fillOpacity": 0.2,
                    "opacity": 0.5,
                    "stroke": true,
                    "weight": 4
                  }
                },
                "type": "Feature"
              }
            ],
            "edit": true,
            "marker": {},
            "options": [
              "position"
            ],
            "polygon": {
              "shapeOptions": {}
            },
            "polyline": {
              "shapeOptions": {}
            },
            "position": "topleft",
            "rectangle": {},
            "remove": true
          }
        },
        "a0ffa7284fe44af79849cf5c04f4f3b4": {
          "model_module": "jupyter-leaflet",
          "model_module_version": "^0.18",
          "model_name": "LeafletMapModel",
          "state": {
            "_dom_classes": [],
            "_model_module": "jupyter-leaflet",
            "_model_module_version": "^0.18",
            "_model_name": "LeafletMapModel",
            "_view_count": null,
            "_view_module": "jupyter-leaflet",
            "_view_module_version": "^0.18",
            "_view_name": "LeafletMapView",
            "bottom": 1498124.0000138856,
            "bounce_at_zoom_limits": true,
            "box_zoom": true,
            "center": [
              45.65604795576819,
              21.646997950173702
            ],
            "close_popup_on_click": true,
            "controls": [
              "IPY_MODEL_a222b487c05046f6a2c5d1b816647dd2",
              "IPY_MODEL_82736a3f0c6f469992cafe4bd9ea013c",
              "IPY_MODEL_8b10ad0ae544465ea8c3bed3cf63bf40"
            ],
            "crs": {
              "custom": false,
              "name": "EPSG3857"
            },
            "default_style": "IPY_MODEL_c01002da14a7476e8ab0229b02e1a31e",
            "double_click_zoom": true,
            "dragging": true,
            "dragging_style": "IPY_MODEL_3eaa4fe76cd34dd580fa855a6723d87c",
            "east": 21.712658426858273,
            "fullscreen": false,
            "inertia": true,
            "inertia_deceleration": 3000,
            "inertia_max_speed": 1500,
            "interpolation": "bilinear",
            "keyboard": true,
            "keyboard_pan_offset": 80,
            "keyboard_zoom_offset": 1,
            "layers": [
              "IPY_MODEL_7e5b76126a154b2c9da2e30f7356c6be"
            ],
            "layout": "IPY_MODEL_6b56a2c06edf43b88a94d8a8eb5c98b8",
            "left": 2348592.8058066815,
            "max_zoom": null,
            "min_zoom": null,
            "modisdate": "2023-12-04",
            "north": 45.66804518421339,
            "options": [
              "bounce_at_zoom_limits",
              "box_zoom",
              "center",
              "close_popup_on_click",
              "double_click_zoom",
              "dragging",
              "fullscreen",
              "inertia",
              "inertia_deceleration",
              "inertia_max_speed",
              "interpolation",
              "keyboard",
              "keyboard_pan_offset",
              "keyboard_zoom_offset",
              "max_zoom",
              "min_zoom",
              "prefer_canvas",
              "scroll_wheel_zoom",
              "tap",
              "tap_tolerance",
              "touch_zoom",
              "world_copy_jump",
              "zoom",
              "zoom_animation_threshold",
              "zoom_delta",
              "zoom_snap"
            ],
            "panes": {},
            "prefer_canvas": false,
            "right": 2350122.8058066815,
            "scroll_wheel_zoom": false,
            "south": 45.6440481564616,
            "style": "IPY_MODEL_c01002da14a7476e8ab0229b02e1a31e",
            "tap": true,
            "tap_tolerance": 15,
            "top": 1497724.0000138856,
            "touch_zoom": true,
            "west": 21.581337473489132,
            "window_url": "https://6u6aorb0g3i-496ff2e9c6d22116-0-colab.googleusercontent.com/outputframe.html?vrz=colab_20231204-060134_RC00_587675273",
            "world_copy_jump": false,
            "zoom": 14,
            "zoom_animation_threshold": 4,
            "zoom_delta": 1,
            "zoom_snap": 1
          }
        },
        "a222b487c05046f6a2c5d1b816647dd2": {
          "model_module": "jupyter-leaflet",
          "model_module_version": "^0.18",
          "model_name": "LeafletZoomControlModel",
          "state": {
            "_model_module": "jupyter-leaflet",
            "_model_module_version": "^0.18",
            "_model_name": "LeafletZoomControlModel",
            "_view_count": null,
            "_view_module": "jupyter-leaflet",
            "_view_module_version": "^0.18",
            "_view_name": "LeafletZoomControlView",
            "options": [
              "position",
              "zoom_in_text",
              "zoom_in_title",
              "zoom_out_text",
              "zoom_out_title"
            ],
            "position": "topleft",
            "zoom_in_text": "+",
            "zoom_in_title": "Zoom in",
            "zoom_out_text": "-",
            "zoom_out_title": "Zoom out"
          }
        },
        "a53ecf2035794b4180c5dd05e883d949": {
          "model_module": "jupyter-leaflet",
          "model_module_version": "^0.18",
          "model_name": "LeafletMapStyleModel",
          "state": {
            "_model_module": "jupyter-leaflet",
            "_model_module_version": "^0.18",
            "_model_name": "LeafletMapStyleModel",
            "_view_count": null,
            "_view_module": "@jupyter-widgets/base",
            "_view_module_version": "1.2.0",
            "_view_name": "StyleView",
            "cursor": "grab"
          }
        },
        "c01002da14a7476e8ab0229b02e1a31e": {
          "model_module": "jupyter-leaflet",
          "model_module_version": "^0.18",
          "model_name": "LeafletMapStyleModel",
          "state": {
            "_model_module": "jupyter-leaflet",
            "_model_module_version": "^0.18",
            "_model_name": "LeafletMapStyleModel",
            "_view_count": null,
            "_view_module": "@jupyter-widgets/base",
            "_view_module_version": "1.2.0",
            "_view_name": "StyleView",
            "cursor": "grab"
          }
        }
      }
    }
  },
  "nbformat": 4,
  "nbformat_minor": 0
}
